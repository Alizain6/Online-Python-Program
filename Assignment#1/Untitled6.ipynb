{
 "cells": [
  {
   "cell_type": "code",
   "execution_count": 32,
   "id": "2954f287",
   "metadata": {},
   "outputs": [
    {
     "name": "stdout",
     "output_type": "stream",
     "text": [
      "90.90333333333335\n",
      "A +\n"
     ]
    }
   ],
   "source": [
    "####variables\n",
    "English =89.40\n",
    "Islamiat = 93.04\n",
    "Maths = 90.27\n",
    "Total_Marks = 300\n",
    "\n",
    "####percentage\n",
    "c = (English+Maths+Islamiat)/Total_Marks*100\n",
    "print(c)\n",
    "\n",
    "####grade\n",
    "if c > 80:\n",
    "    print(\"A +\")\n",
    "else:\n",
    "    print(\"fail\")"
   ]
  },
  {
   "cell_type": "code",
   "execution_count": null,
   "id": "e6182ad4",
   "metadata": {},
   "outputs": [],
   "source": []
  }
 ],
 "metadata": {
  "kernelspec": {
   "display_name": "Python 3",
   "language": "python",
   "name": "python3"
  },
  "language_info": {
   "codemirror_mode": {
    "name": "ipython",
    "version": 3
   },
   "file_extension": ".py",
   "mimetype": "text/x-python",
   "name": "python",
   "nbconvert_exporter": "python",
   "pygments_lexer": "ipython3",
   "version": "3.8.8"
  }
 },
 "nbformat": 4,
 "nbformat_minor": 5
}
