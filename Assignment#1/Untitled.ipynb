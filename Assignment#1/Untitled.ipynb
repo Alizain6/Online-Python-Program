{
 "cells": [
  {
   "cell_type": "code",
   "execution_count": 2,
   "id": "9d7b7858",
   "metadata": {},
   "outputs": [
    {
     "ename": "NameError",
     "evalue": "name 'ellipse' is not defined",
     "output_type": "error",
     "traceback": [
      "\u001b[1;31m---------------------------------------------------------------------------\u001b[0m",
      "\u001b[1;31mNameError\u001b[0m                                 Traceback (most recent call last)",
      "\u001b[1;32m<ipython-input-2-02d5ab15c445>\u001b[0m in \u001b[0;36m<module>\u001b[1;34m\u001b[0m\n\u001b[1;32m----> 1\u001b[1;33m \u001b[0mellipse\u001b[0m\u001b[1;33m(\u001b[0m\u001b[1;34m\"40, 50\"\u001b[0m\u001b[1;33m)\u001b[0m\u001b[1;33m;\u001b[0m\u001b[1;33m\u001b[0m\u001b[1;33m\u001b[0m\u001b[0m\n\u001b[0m",
      "\u001b[1;31mNameError\u001b[0m: name 'ellipse' is not defined"
     ]
    }
   ],
   "source": [
    "print(\"Ha\")"
   ]
  },
  {
   "cell_type": "code",
   "execution_count": null,
   "id": "fd2a8191",
   "metadata": {},
   "outputs": [],
   "source": []
  }
 ],
 "metadata": {
  "kernelspec": {
   "display_name": "Python 3",
   "language": "python",
   "name": "python3"
  },
  "language_info": {
   "codemirror_mode": {
    "name": "ipython",
    "version": 3
   },
   "file_extension": ".py",
   "mimetype": "text/x-python",
   "name": "python",
   "nbconvert_exporter": "python",
   "pygments_lexer": "ipython3",
   "version": "3.8.8"
  }
 },
 "nbformat": 4,
 "nbformat_minor": 5
}
