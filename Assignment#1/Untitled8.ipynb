{
 "cells": [
  {
   "cell_type": "code",
   "execution_count": 3,
   "id": "12fadb22",
   "metadata": {},
   "outputs": [
    {
     "name": "stdout",
     "output_type": "stream",
     "text": [
      "79.33333333333333\n",
      "A\n"
     ]
    }
   ],
   "source": [
    "English= 79\n",
    "Math= 80\n",
    "Isl= 79\n",
    "Total_Marks_Gained= English+Math+Isl\n",
    "Total_Marks= 300\n",
    "percentage= Total_Marks_Gained/Total_Marks*100\n",
    "print(percentage)\n",
    "\n",
    "if percentage > 60:\n",
    "    print(\"A\")\n",
    "else:\n",
    "    print(\"fail\")"
   ]
  },
  {
   "cell_type": "code",
   "execution_count": null,
   "id": "4eb1f804",
   "metadata": {},
   "outputs": [],
   "source": []
  }
 ],
 "metadata": {
  "kernelspec": {
   "display_name": "Python 3",
   "language": "python",
   "name": "python3"
  },
  "language_info": {
   "codemirror_mode": {
    "name": "ipython",
    "version": 3
   },
   "file_extension": ".py",
   "mimetype": "text/x-python",
   "name": "python",
   "nbconvert_exporter": "python",
   "pygments_lexer": "ipython3",
   "version": "3.8.8"
  }
 },
 "nbformat": 4,
 "nbformat_minor": 5
}
