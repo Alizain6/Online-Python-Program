{
 "cells": [
  {
   "cell_type": "code",
   "execution_count": 1,
   "id": "860768fd",
   "metadata": {},
   "outputs": [
    {
     "name": "stdout",
     "output_type": "stream",
     "text": [
      "Twinkle, twinkle, little star, \n",
      "\tHow I wonder what you are! \n",
      "\t\tUp above the world so high, \n",
      "\t\tLike a diamond in the sky. \n",
      "Twinkle, twinkle, little star, \n",
      "\tHow I wonder what you are!\n"
     ]
    }
   ],
   "source": [
    "## Question no.1\n",
    "## Write a Python program to print the following string in a specific format (see the  output)\n",
    "\n",
    "\n",
    "print(\"Twinkle, twinkle, little star, \\n\\tHow I wonder what you are! \\n\\t\\tUp above the world so high, \\n\\t\\tLike a diamond in the sky. \\nTwinkle, twinkle, little star, \\n\\tHow I wonder what you are!\")\n"
   ]
  },
  {
   "cell_type": "code",
   "execution_count": 2,
   "id": "3cc8c9ea",
   "metadata": {},
   "outputs": [
    {
     "name": "stdout",
     "output_type": "stream",
     "text": [
      "Python version\n",
      "3.8.8 (default, Apr 13 2021, 15:08:03) [MSC v.1916 64 bit (AMD64)]\n",
      "Version info.\n",
      "sys.version_info(major=3, minor=8, micro=8, releaselevel='final', serial=0)\n"
     ]
    }
   ],
   "source": [
    "## Question no.2\n",
    "## Write a Python program to get the Python version you are using\n",
    "\n",
    "import sys\n",
    "print(\"Python version\")\n",
    "print (sys.version)\n",
    "print(\"Version info.\")\n",
    "print (sys.version_info)\n"
   ]
  },
  {
   "cell_type": "code",
   "execution_count": 6,
   "id": "4755c578",
   "metadata": {},
   "outputs": [
    {
     "name": "stdout",
     "output_type": "stream",
     "text": [
      "Date and Time : \n",
      "2021-10-24 14:45:53\n"
     ]
    }
   ],
   "source": [
    "## Question no.3\n",
    "## Write a Python program to display the current date and time.\n",
    "\n",
    "import datetime\n",
    "now = datetime.datetime.now()\n",
    "print (\"Date and Time : \")\n",
    "print (now.strftime(\"%Y-%m-%d %H:%M:%S\"))\n"
   ]
  },
  {
   "cell_type": "code",
   "execution_count": 16,
   "id": "55004ca6",
   "metadata": {},
   "outputs": [
    {
     "name": "stdout",
     "output_type": "stream",
     "text": [
      "Type the radius of the circle : 57\n",
      "Area of the circle with radius 57.0 is: 10207.034531513238\n"
     ]
    }
   ],
   "source": [
    "## Question no.4\n",
    "## Write a Python program which accepts the radius of a circle from the user and compute  the area.\n",
    "\n",
    "from math import pi\n",
    "r = float(input (\"Type the radius of the circle : \"))\n",
    "print (\"Area of the circle with radius \" + str(r) + \" is: \" + str(pi * r**2))\n"
   ]
  },
  {
   "cell_type": "code",
   "execution_count": 17,
   "id": "279df8c2",
   "metadata": {},
   "outputs": [
    {
     "name": "stdout",
     "output_type": "stream",
     "text": [
      "Type your First Name : Alizain\n",
      "Type your Last Name : Faizal\n",
      "Faizal Alizain\n"
     ]
    }
   ],
   "source": [
    "## Question no.5\n",
    "## Write a Python program which accepts the user's first and last name and print them in  reverse order with a space between them\n",
    "\n",
    "firstname = input(\"Type your First Name : \")\n",
    "lastname = input(\"Type your Last Name : \")\n",
    "print ( lastname + \" \" + firstname)\n"
   ]
  },
  {
   "cell_type": "code",
   "execution_count": 2,
   "id": "48a44c63",
   "metadata": {},
   "outputs": [
    {
     "name": "stdout",
     "output_type": "stream",
     "text": [
      "Enter first number: 44\n",
      "Enter second number: 44\n",
      "The sum of 44 and 44 is: 88\n"
     ]
    }
   ],
   "source": [
    "## Question no.6\n",
    "## Write a python program which takes two inputs from user and print them addition \n",
    "\n",
    "number1 = input('Enter first number: ')\n",
    "number2 = input('Enter second number: ')\n",
    "sum = int(number1) + int(number2)\n",
    "print('The sum of {0} and {1} is: {2}'.format(number1, number2, sum))\n"
   ]
  },
  {
   "cell_type": "code",
   "execution_count": 7,
   "id": "0a12ccab",
   "metadata": {},
   "outputs": [
    {
     "name": "stdout",
     "output_type": "stream",
     "text": [
      "Enter the marks:\n",
      "91\n",
      "92\n",
      "89\n",
      "90\n",
      "87\n",
      "\n",
      "The Total marks is:   \t 449.0 / 500.00\n",
      "\n",
      "The Average marks is: \t 89.8\n",
      "\n",
      "The Percentage is:    \t 89.8 %\n",
      "\n",
      "The Grade is:         \t B\n"
     ]
    }
   ],
   "source": [
    "## Question no.7\n",
    "## Write a program which takes 5 inputs from user for different subject’s marks, total it  and generate mark sheet using grades.\n",
    "\n",
    "print(\"Enter the marks:\")\n",
    "subject_1 = float (input ())\n",
    "subject_2 = float (input ())\n",
    "subject_3 = float (input ())\n",
    "subject_4 = float (input ())\n",
    "subject_5 = float (input ())\n",
    "\n",
    "total, average, percentage, grade = None, None, None, None\n",
    "total = subject_1 + subject_2 + subject_3 + subject_4 + subject_5\n",
    "average = total / 5.0\n",
    "percentage = (total / 500.0) * 100\n",
    "\n",
    "if average >= 90:\n",
    "    grade = 'A'\n",
    "elif average >= 80 and average < 90:\n",
    "    grade = 'B'\n",
    "elif average >= 70 and average < 80:\n",
    "    grade = 'C'\n",
    "elif average >= 60 and average < 70:\n",
    "    grade = 'D'\n",
    "else:\n",
    "    grade = 'E'\n",
    "print (\"\\nThe Total marks is:   \\t\", total, \"/ 500.00\")\n",
    "print (\"\\nThe Average marks is: \\t\", average)\n",
    "print (\"\\nThe Percentage is:    \\t\", percentage, \"%\")\n",
    "print (\"\\nThe Grade is:         \\t\", grade)"
   ]
  },
  {
   "cell_type": "code",
   "execution_count": 8,
   "id": "95c902b8",
   "metadata": {},
   "outputs": [
    {
     "name": "stdout",
     "output_type": "stream",
     "text": [
      "Enter number: 35\n",
      "It's an odd number.\n"
     ]
    }
   ],
   "source": [
    "## Question no.8\n",
    "## Write a program which take input from user and identify that the given number is even  or odd?\n",
    "\n",
    "num = int(input(\"Enter number: \"))\n",
    "place_value = num % 2\n",
    "if place_value > 0:\n",
    "    print(\"It's an odd number.\")\n",
    "else:\n",
    "    print(\"It's an even number.\")"
   ]
  },
  {
   "cell_type": "code",
   "execution_count": 2,
   "id": "80ffb717",
   "metadata": {},
   "outputs": [
    {
     "name": "stdout",
     "output_type": "stream",
     "text": [
      "Length of the list is:\n",
      "7\n"
     ]
    }
   ],
   "source": [
    "Write a program which print the length of the list\n",
    "\n",
    "from operator import length_hint \n",
    "inp_lst = ['a','','b','c','d','e','f']\n",
    "print(\"Length of the list is:\")\n",
    "length = length_hint(inp_lst)\n",
    "print(length)"
   ]
  },
  {
   "cell_type": "code",
   "execution_count": 8,
   "id": "4939e682",
   "metadata": {},
   "outputs": [
    {
     "name": "stdout",
     "output_type": "stream",
     "text": [
      "116\n"
     ]
    }
   ],
   "source": [
    "## Question no.10\n",
    "## Write a Python program to sum all the numeric items in a list\n",
    "\n",
    "\n",
    "def sum_list(items):\n",
    "    sum = 0\n",
    "    for x in items:\n",
    "        sum += x\n",
    "    return sum\n",
    "print(sum_list([13,-6,4,5,100]))\n"
   ]
  },
  {
   "cell_type": "code",
   "execution_count": 13,
   "id": "296e6269",
   "metadata": {},
   "outputs": [
    {
     "name": "stdout",
     "output_type": "stream",
     "text": [
      "800.001\n"
     ]
    }
   ],
   "source": [
    "## question no.11\n",
    "## Write a Python program to get the largest number from a numeric list\n",
    "\n",
    "def max_num_in_list( list ):\n",
    "    max = list[ 0 ]\n",
    "    for a in list:\n",
    "        if a > max:\n",
    "            max = a\n",
    "    return max\n",
    "print(max_num_in_list([122, 52, -800, 33, 800, 800.001]))\n"
   ]
  },
  {
   "cell_type": "code",
   "execution_count": 18,
   "id": "945744d0",
   "metadata": {},
   "outputs": [
    {
     "name": "stdout",
     "output_type": "stream",
     "text": [
      "1\n",
      "\n",
      "1\n",
      "\n",
      "2\n",
      "\n",
      "3\n",
      "\n"
     ]
    }
   ],
   "source": [
    "## Question no.12\n",
    "##Take a list, say for example this one:  \n",
    "##        a = [1, 1, 2, 3, 5, 8, 13, 21, 34, 55, 89]  \n",
    "##               Write a program that prints out all the elements of the list that are less than 5\n",
    "\n",
    "\n",
    "test_list= [1, 1, 2, 3, 5, 8, 13, 21, 34, 55, 89]\n",
    "for element in test_list:\n",
    "    if(int(element) <5):\n",
    "        print(str(element)+\"\\n\")"
   ]
  },
  {
   "cell_type": "code",
   "execution_count": null,
   "id": "28bd2ef6",
   "metadata": {},
   "outputs": [],
   "source": []
  },
  {
   "cell_type": "code",
   "execution_count": null,
   "id": "e310d54b",
   "metadata": {},
   "outputs": [],
   "source": []
  }
 ],
 "metadata": {
  "kernelspec": {
   "display_name": "Python 3",
   "language": "python",
   "name": "python3"
  },
  "language_info": {
   "codemirror_mode": {
    "name": "ipython",
    "version": 3
   },
   "file_extension": ".py",
   "mimetype": "text/x-python",
   "name": "python",
   "nbconvert_exporter": "python",
   "pygments_lexer": "ipython3",
   "version": "3.8.8"
  }
 },
 "nbformat": 4,
 "nbformat_minor": 5
}
